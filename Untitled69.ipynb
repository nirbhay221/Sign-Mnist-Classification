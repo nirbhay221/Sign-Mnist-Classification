{
  "nbformat": 4,
  "nbformat_minor": 0,
  "metadata": {
    "colab": {
      "name": "Untitled69.ipynb",
      "provenance": []
    },
    "kernelspec": {
      "name": "python3",
      "display_name": "Python 3"
    }
  },
  "cells": [
    {
      "cell_type": "code",
      "metadata": {
        "id": "j9YljuPb0eDn"
      },
      "source": [
        "import csv\n",
        "import os \n",
        "import tensorflow as tf\n",
        "import numpy as np\n",
        "import matplotlib.pyplot as plt \n",
        "from tensorflow.keras.preprocessing.image import ImageDataGenerator"
      ],
      "execution_count": null,
      "outputs": []
    },
    {
      "cell_type": "code",
      "metadata": {
        "id": "xIZAYyM11KKl"
      },
      "source": [
        "\n",
        "def get_data(filename):\n",
        "    with open(filename) as training_file:\n",
        "        csv_reader = csv.reader(training_file, delimiter=',')\n",
        "        first_line = True\n",
        "        temp_images = []\n",
        "        temp_labels = []\n",
        "        for row in csv_reader:\n",
        "            if first_line:\n",
        "                # print(\"Ignoring first line\")\n",
        "                first_line = False\n",
        "            else:\n",
        "                temp_labels.append(row[0])\n",
        "                image_data = row[1:785]\n",
        "                image_data_as_array = np.array_split(image_data, 28)\n",
        "                temp_images.append(image_data_as_array)\n",
        "        images = np.array(temp_images).astype('float')\n",
        "        labels = np.array(temp_labels).astype('float')\n",
        "    return images, labels\n"
      ],
      "execution_count": null,
      "outputs": []
    },
    {
      "cell_type": "code",
      "metadata": {
        "id": "IC252yi322RS",
        "outputId": "52d47954-42f9-4a74-815e-66400c8344fb",
        "colab": {
          "base_uri": "https://localhost:8080/"
        }
      },
      "source": [
        "\n",
        "\n",
        "training_images, training_labels = get_data('sign_mnist_train.csv')\n",
        "testing_images, testing_labels = get_data('sign_mnist_test.csv')\n",
        "\n",
        "print(training_images.shape)\n",
        "print(training_labels.shape)\n",
        "print(testing_images.shape)\n",
        "print(testing_labels.shape)"
      ],
      "execution_count": null,
      "outputs": [
        {
          "output_type": "stream",
          "text": [
            "(27455, 28, 28)\n",
            "(27455,)\n",
            "(7172, 28, 28)\n",
            "(7172,)\n"
          ],
          "name": "stdout"
        }
      ]
    },
    {
      "cell_type": "code",
      "metadata": {
        "id": "7SJHSJrt4HyS"
      },
      "source": [
        "training_images = tf.expand_dims(training_images,axis=3)\n",
        "testing_images= tf.expand_dims(testing_images,axis=3)"
      ],
      "execution_count": null,
      "outputs": []
    },
    {
      "cell_type": "code",
      "metadata": {
        "id": "Ces-_NLe5yie"
      },
      "source": [
        "train_datagen= ImageDataGenerator(rescale=1.0/255.,zoom_range=0.2,shear_range=0.2,height_shift_range=0.2,width_shift_range=0.2,rotation_range=40,fill_mode='nearest',horizontal_flip=True)\n",
        "test_datagen = ImageDataGenerator(rescale=1.0/255.)"
      ],
      "execution_count": null,
      "outputs": []
    },
    {
      "cell_type": "code",
      "metadata": {
        "id": "K1j6eg0i6X2v"
      },
      "source": [
        "model = tf.keras.models.Sequential([\n",
        "                                    tf.keras.layers.Conv2D(64,(3,3),activation='relu',input_shape=(28,28,1)),\n",
        "                                    tf.keras.layers.MaxPooling2D((2,2)),\n",
        "                                    tf.keras.layers.Conv2D(64,(3,3),activation='relu'),\n",
        "                                    tf.keras.layers.MaxPooling2D((2,2)),\n",
        "                                    tf.keras.layers.Flatten(),\n",
        "                                    tf.keras.layers.Dense(128,activation='relu'),\n",
        "                                    tf.keras.layers.Dense(26,activation='softmax')\n",
        "])"
      ],
      "execution_count": null,
      "outputs": []
    },
    {
      "cell_type": "code",
      "metadata": {
        "id": "OHVAXNMW7EMr"
      },
      "source": [
        "model.compile(loss='sparse_categorical_crossentropy',metrics=['accuracy'],optimizer='adam')"
      ],
      "execution_count": null,
      "outputs": []
    },
    {
      "cell_type": "code",
      "metadata": {
        "id": "7z00zSRf7QcS",
        "outputId": "20418099-f6a2-4605-e4bd-78cc62ca97ac",
        "colab": {
          "base_uri": "https://localhost:8080/"
        }
      },
      "source": [
        "model.fit(train_datagen.flow(training_images,training_labels,batch_size=32),epochs=15,validation_data=test_datagen.flow(testing_images,testing_labels,batch_size=32))\n"
      ],
      "execution_count": null,
      "outputs": [
        {
          "output_type": "stream",
          "text": [
            "Epoch 1/15\n",
            "858/858 [==============================] - 54s 63ms/step - loss: 2.8219 - accuracy: 0.1453 - val_loss: 2.0423 - val_accuracy: 0.3129\n",
            "Epoch 2/15\n",
            "858/858 [==============================] - 50s 58ms/step - loss: 2.0686 - accuracy: 0.3416 - val_loss: 1.4659 - val_accuracy: 0.4893\n",
            "Epoch 3/15\n",
            "858/858 [==============================] - 50s 58ms/step - loss: 1.7268 - accuracy: 0.4484 - val_loss: 1.2631 - val_accuracy: 0.5517\n",
            "Epoch 4/15\n",
            "858/858 [==============================] - 50s 58ms/step - loss: 1.5043 - accuracy: 0.5133 - val_loss: 1.0588 - val_accuracy: 0.6150\n",
            "Epoch 5/15\n",
            "858/858 [==============================] - 50s 58ms/step - loss: 1.3478 - accuracy: 0.5613 - val_loss: 0.8221 - val_accuracy: 0.7047\n",
            "Epoch 6/15\n",
            "858/858 [==============================] - 50s 58ms/step - loss: 1.2312 - accuracy: 0.5965 - val_loss: 0.7907 - val_accuracy: 0.7280\n",
            "Epoch 7/15\n",
            "858/858 [==============================] - 50s 58ms/step - loss: 1.1410 - accuracy: 0.6208 - val_loss: 0.7602 - val_accuracy: 0.7133\n",
            "Epoch 8/15\n",
            "858/858 [==============================] - 50s 58ms/step - loss: 1.0724 - accuracy: 0.6414 - val_loss: 0.7510 - val_accuracy: 0.7340\n",
            "Epoch 9/15\n",
            "858/858 [==============================] - 49s 57ms/step - loss: 0.9999 - accuracy: 0.6641 - val_loss: 0.6533 - val_accuracy: 0.7704\n",
            "Epoch 10/15\n",
            "858/858 [==============================] - 49s 58ms/step - loss: 0.9365 - accuracy: 0.6876 - val_loss: 0.6030 - val_accuracy: 0.7825\n",
            "Epoch 11/15\n",
            "858/858 [==============================] - 49s 58ms/step - loss: 0.9010 - accuracy: 0.6983 - val_loss: 0.5474 - val_accuracy: 0.8116\n",
            "Epoch 12/15\n",
            "858/858 [==============================] - 50s 58ms/step - loss: 0.8612 - accuracy: 0.7122 - val_loss: 0.5268 - val_accuracy: 0.8055\n",
            "Epoch 13/15\n",
            "858/858 [==============================] - 49s 58ms/step - loss: 0.8181 - accuracy: 0.7251 - val_loss: 0.4899 - val_accuracy: 0.8208\n",
            "Epoch 14/15\n",
            "858/858 [==============================] - 49s 58ms/step - loss: 0.7925 - accuracy: 0.7340 - val_loss: 0.5241 - val_accuracy: 0.8196\n",
            "Epoch 15/15\n",
            "858/858 [==============================] - 51s 59ms/step - loss: 0.7541 - accuracy: 0.7432 - val_loss: 0.5359 - val_accuracy: 0.8252\n"
          ],
          "name": "stdout"
        },
        {
          "output_type": "execute_result",
          "data": {
            "text/plain": [
              "<tensorflow.python.keras.callbacks.History at 0x7ffa38f26f60>"
            ]
          },
          "metadata": {
            "tags": []
          },
          "execution_count": 23
        }
      ]
    },
    {
      "cell_type": "code",
      "metadata": {
        "id": "kRXXywCJ71FH",
        "outputId": "a4c4f390-d84d-469b-a939-ec54ff110110",
        "colab": {
          "base_uri": "https://localhost:8080/"
        }
      },
      "source": [
        "\n",
        "import matplotlib.pyplot as plt\n",
        "acc = history.history['acc']\n",
        "val_acc = history.history['val_acc']\n",
        "loss = history.history['loss']\n",
        "val_loss = history.history['val_loss']\n",
        "\n",
        "epochs = range(len(acc))\n",
        "\n",
        "plt.plot(epochs, acc, 'r', label='Training accuracy')\n",
        "plt.plot(epochs, val_acc, 'b', label='Validation accuracy')\n",
        "plt.title('Training and validation accuracy')\n",
        "plt.legend()\n",
        "plt.figure()\n",
        "\n",
        "plt.plot(epochs, loss, 'r', label='Training Loss')\n",
        "plt.plot(epochs, val_loss, 'b', label='Validation Loss')\n",
        "plt.title('Training and validation loss')\n",
        "plt.legend()\n",
        "\n",
        "plt.show()"
      ],
      "execution_count": null,
      "outputs": [
        {
          "output_type": "error",
          "ename": "NameError",
          "evalue": "ignored",
          "traceback": [
            "\u001b[0;31m---------------------------------------------------------------------------\u001b[0m",
            "\u001b[0;31mNameError\u001b[0m                                 Traceback (most recent call last)",
            "\u001b[0;32m<ipython-input-24-587957ecb2ba>\u001b[0m in \u001b[0;36m<module>\u001b[0;34m()\u001b[0m\n\u001b[1;32m      1\u001b[0m \u001b[0;34m\u001b[0m\u001b[0m\n\u001b[1;32m      2\u001b[0m \u001b[0;32mimport\u001b[0m \u001b[0mmatplotlib\u001b[0m\u001b[0;34m.\u001b[0m\u001b[0mpyplot\u001b[0m \u001b[0;32mas\u001b[0m \u001b[0mplt\u001b[0m\u001b[0;34m\u001b[0m\u001b[0;34m\u001b[0m\u001b[0m\n\u001b[0;32m----> 3\u001b[0;31m \u001b[0macc\u001b[0m \u001b[0;34m=\u001b[0m \u001b[0mhistory\u001b[0m\u001b[0;34m.\u001b[0m\u001b[0mhistory\u001b[0m\u001b[0;34m[\u001b[0m\u001b[0;34m'acc'\u001b[0m\u001b[0;34m]\u001b[0m\u001b[0;34m\u001b[0m\u001b[0;34m\u001b[0m\u001b[0m\n\u001b[0m\u001b[1;32m      4\u001b[0m \u001b[0mval_acc\u001b[0m \u001b[0;34m=\u001b[0m \u001b[0mhistory\u001b[0m\u001b[0;34m.\u001b[0m\u001b[0mhistory\u001b[0m\u001b[0;34m[\u001b[0m\u001b[0;34m'val_acc'\u001b[0m\u001b[0;34m]\u001b[0m\u001b[0;34m\u001b[0m\u001b[0;34m\u001b[0m\u001b[0m\n\u001b[1;32m      5\u001b[0m \u001b[0mloss\u001b[0m \u001b[0;34m=\u001b[0m \u001b[0mhistory\u001b[0m\u001b[0;34m.\u001b[0m\u001b[0mhistory\u001b[0m\u001b[0;34m[\u001b[0m\u001b[0;34m'loss'\u001b[0m\u001b[0;34m]\u001b[0m\u001b[0;34m\u001b[0m\u001b[0;34m\u001b[0m\u001b[0m\n",
            "\u001b[0;31mNameError\u001b[0m: name 'history' is not defined"
          ]
        }
      ]
    },
    {
      "cell_type": "code",
      "metadata": {
        "id": "hfD5gKK39XLo"
      },
      "source": [
        ""
      ],
      "execution_count": null,
      "outputs": []
    }
  ]
}