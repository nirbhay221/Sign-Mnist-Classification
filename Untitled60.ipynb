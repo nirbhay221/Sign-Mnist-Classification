{
  "nbformat": 4,
  "nbformat_minor": 0,
  "metadata": {
    "colab": {
      "name": "Untitled60.ipynb",
      "provenance": [],
      "collapsed_sections": []
    },
    "kernelspec": {
      "name": "python3",
      "display_name": "Python 3"
    }
  },
  "cells": [
    {
      "cell_type": "code",
      "metadata": {
        "id": "-0QL9X9QCdXZ"
      },
      "source": [
        "import tensorflow as tf\n",
        "import numpy as np\n",
        "import matplotlib.pyplot as plt \n",
        "import csv \n",
        "import pandas as pd\n",
        "from tensorflow.keras.preprocessing.image import ImageDataGenerator"
      ],
      "execution_count": null,
      "outputs": []
    },
    {
      "cell_type": "code",
      "metadata": {
        "id": "m5E-b30sDb64",
        "outputId": "7953325a-4468-4229-8bbe-a5e793d95e08",
        "colab": {
          "base_uri": "https://localhost:8080/"
        }
      },
      "source": [
        "\n",
        "def get_data(filename):\n",
        "    with open(filename) as training_file:\n",
        "        csv_reader = csv.reader(training_file, delimiter=',')\n",
        "        first_line = True\n",
        "        temp_images = []\n",
        "        temp_labels = []\n",
        "        for row in csv_reader:\n",
        "            if first_line:\n",
        "                # print(\"Ignoring first line\")\n",
        "                first_line = False\n",
        "            else:\n",
        "                temp_labels.append(row[0])\n",
        "                image_data = row[1:785]\n",
        "                image_data_as_array = np.array_split(image_data, 28)\n",
        "                temp_images.append(image_data_as_array)\n",
        "        images = np.array(temp_images).astype('float')\n",
        "        labels = np.array(temp_labels).astype('float')\n",
        "    return images, labels\n",
        "\n",
        "\n",
        "training_images, training_labels = get_data('sign_mnist_train.csv')\n",
        "testing_images, testing_labels = get_data('sign_mnist_test.csv')\n",
        "\n",
        "print(training_images.shape)\n",
        "print(training_labels.shape)\n",
        "print(testing_images.shape)\n",
        "print(testing_labels.shape)"
      ],
      "execution_count": null,
      "outputs": [
        {
          "output_type": "stream",
          "text": [
            "(27455, 28, 28)\n",
            "(27455,)\n",
            "(7172, 28, 28)\n",
            "(7172,)\n"
          ],
          "name": "stdout"
        }
      ]
    },
    {
      "cell_type": "code",
      "metadata": {
        "id": "C5IO6eHfGUgG"
      },
      "source": [
        "training_images =np.expand_dims(training_images,axis=3) \n",
        "testing_images = np.expand_dims(testing_images,axis =3)"
      ],
      "execution_count": null,
      "outputs": []
    },
    {
      "cell_type": "code",
      "metadata": {
        "id": "Ubd8Ao67HxBh"
      },
      "source": [
        "from tensorflow.keras.preprocessing.image import ImageDataGenerator"
      ],
      "execution_count": null,
      "outputs": []
    },
    {
      "cell_type": "code",
      "metadata": {
        "id": "LMxyz5SVJOkO"
      },
      "source": [
        "train_datagen = ImageDataGenerator(rescale= 1.0/255.,zoom_range=0.2,rotation_range=0.2,horizontal_flip= True,fill_mode= 'nearest',height_shift_range=0.2,width_shift_range=0.2,shear_range=0.2)"
      ],
      "execution_count": null,
      "outputs": []
    },
    {
      "cell_type": "code",
      "metadata": {
        "id": "Zm0X5NdMJg6M"
      },
      "source": [
        "test_datagen = ImageDataGenerator(rescale = 1.0/255.)"
      ],
      "execution_count": null,
      "outputs": []
    },
    {
      "cell_type": "code",
      "metadata": {
        "id": "pdqdxDFLJlTZ"
      },
      "source": [
        "model = tf.keras.models.Sequential([\n",
        "                                    tf.keras.layers.Conv2D(64,(3,3),input_shape = (28,28,1),activation = 'relu'),\n",
        "                                    tf.keras.layers.MaxPooling2D((2,2)),\n",
        "                                    tf.keras.layers.Conv2D(64,(3,3),activation='relu'),\n",
        "                                    tf.keras.layers.MaxPooling2D((2,2)),\n",
        "                                    tf.keras.layers.Flatten(),\n",
        "                                    tf.keras.layers.Dense(128,activation = 'relu'),\n",
        "                                    tf.keras.layers.Dense(26,activation = 'softmax')\n",
        "])"
      ],
      "execution_count": null,
      "outputs": []
    },
    {
      "cell_type": "code",
      "metadata": {
        "id": "C-2bMeFGLTh1",
        "outputId": "c9d6ea1b-10a9-4c9d-dbe6-2391c4f97119",
        "colab": {
          "base_uri": "https://localhost:8080/"
        }
      },
      "source": [
        "model.compile(loss= 'sparse_categorical_crossentropy',optimizer= 'adam',metrics = ['accuracy'])\n",
        "history = model.fit_generator(train_datagen.flow(training_images,training_labels,batch_size=32),epochs =15,validation_data=test_datagen.flow(testing_images,testing_labels,batch_size =32))\n",
        "model.evaluate(testing_images,testing_labels)"
      ],
      "execution_count": null,
      "outputs": [
        {
          "output_type": "stream",
          "text": [
            "WARNING:tensorflow:From <ipython-input-18-f89ebf99e2c0>:2: Model.fit_generator (from tensorflow.python.keras.engine.training) is deprecated and will be removed in a future version.\n",
            "Instructions for updating:\n",
            "Please use Model.fit, which supports generators.\n",
            "Epoch 1/15\n",
            "858/858 [==============================] - 48s 56ms/step - loss: 2.6503 - accuracy: 0.1930 - val_loss: 1.7040 - val_accuracy: 0.4239\n",
            "Epoch 2/15\n",
            "858/858 [==============================] - 49s 57ms/step - loss: 1.5836 - accuracy: 0.4837 - val_loss: 0.9332 - val_accuracy: 0.6603\n",
            "Epoch 3/15\n",
            "858/858 [==============================] - 48s 56ms/step - loss: 1.2104 - accuracy: 0.6025 - val_loss: 0.7072 - val_accuracy: 0.7662\n",
            "Epoch 4/15\n",
            "858/858 [==============================] - 48s 56ms/step - loss: 0.9898 - accuracy: 0.6740 - val_loss: 0.5671 - val_accuracy: 0.8108\n",
            "Epoch 5/15\n",
            "858/858 [==============================] - 48s 55ms/step - loss: 0.8381 - accuracy: 0.7215 - val_loss: 0.5309 - val_accuracy: 0.8090\n",
            "Epoch 6/15\n",
            "858/858 [==============================] - 48s 56ms/step - loss: 0.7402 - accuracy: 0.7526 - val_loss: 0.4689 - val_accuracy: 0.8307\n",
            "Epoch 7/15\n",
            "858/858 [==============================] - 48s 56ms/step - loss: 0.6542 - accuracy: 0.7832 - val_loss: 0.3487 - val_accuracy: 0.8793\n",
            "Epoch 8/15\n",
            "858/858 [==============================] - 48s 56ms/step - loss: 0.5845 - accuracy: 0.8073 - val_loss: 0.4110 - val_accuracy: 0.8614\n",
            "Epoch 9/15\n",
            "858/858 [==============================] - 48s 56ms/step - loss: 0.5403 - accuracy: 0.8170 - val_loss: 0.3540 - val_accuracy: 0.8762\n",
            "Epoch 10/15\n",
            "858/858 [==============================] - 47s 55ms/step - loss: 0.4824 - accuracy: 0.8406 - val_loss: 0.2354 - val_accuracy: 0.9223\n",
            "Epoch 11/15\n",
            "858/858 [==============================] - 47s 55ms/step - loss: 0.4467 - accuracy: 0.8509 - val_loss: 0.2526 - val_accuracy: 0.9158\n",
            "Epoch 12/15\n",
            "858/858 [==============================] - 52s 60ms/step - loss: 0.4189 - accuracy: 0.8602 - val_loss: 0.1996 - val_accuracy: 0.9197\n",
            "Epoch 13/15\n",
            "858/858 [==============================] - 48s 56ms/step - loss: 0.3824 - accuracy: 0.8731 - val_loss: 0.1740 - val_accuracy: 0.9381\n",
            "Epoch 14/15\n",
            "858/858 [==============================] - 48s 56ms/step - loss: 0.3698 - accuracy: 0.8759 - val_loss: 0.1819 - val_accuracy: 0.9359\n",
            "Epoch 15/15\n",
            "858/858 [==============================] - 48s 56ms/step - loss: 0.3421 - accuracy: 0.8865 - val_loss: 0.1942 - val_accuracy: 0.9357\n",
            "225/225 [==============================] - 3s 12ms/step - loss: 252.2209 - accuracy: 0.6521\n"
          ],
          "name": "stdout"
        },
        {
          "output_type": "execute_result",
          "data": {
            "text/plain": [
              "[252.2208709716797, 0.6521193385124207]"
            ]
          },
          "metadata": {
            "tags": []
          },
          "execution_count": 18
        }
      ]
    },
    {
      "cell_type": "code",
      "metadata": {
        "id": "G2gmTtEELezD",
        "outputId": "919a09d2-d6a1-40c2-e15d-ea502c215c4c",
        "colab": {
          "base_uri": "https://localhost:8080/",
          "height": 763
        }
      },
      "source": [
        "import matplotlib.pyplot as plt\n",
        "acc= history.history['accuracy']\n",
        "val_acc = history.history['val_accuracy']\n",
        "loss=  history.history['loss']\n",
        "val_loss= history.history['val_loss']\n",
        "epochs = range(len(acc))\n",
        "plt.figure(figsize=(10,6))\n",
        "plt.plot(epochs,acc,'r',label='accuracy')\n",
        "plt.plot(epochs,val_acc,'b',label='val_accuracy')\n",
        "plt.title('accuracy and val accuracy')\n",
        "plt.legend()\n",
        "plt.show()\n",
        "plt.figure(figsize=(10,6))\n",
        "plt.plot(epochs,loss,'r',label = 'loss')\n",
        "plt.plot(epochs,val_loss,'b',label = 'val_loss')\n",
        "plt.title('loss and val_loss')\n",
        "plt.legend()\n",
        "plt.show()"
      ],
      "execution_count": null,
      "outputs": [
        {
          "output_type": "display_data",
          "data": {
            "image/png": "[encoded data removed]",
            "text/plain": [
              "<Figure size 720x432 with 1 Axes>"
            ]
          },
          "metadata": {
            "tags": [],
            "needs_background": "light"
          }
        },
        {
          "output_type": "display_data",
          "data": {
            "image/png": "[encoded data removed]",
            "text/plain": [
              "<Figure size 720x432 with 1 Axes>"
            ]
          },
          "metadata": {
            "tags": [],
            "needs_background": "light"
          }
        }
      ]
    },
    {
      "cell_type": "code",
      "metadata": {
        "id": "YR3B_NycR5iQ"
      },
      "source": [
        ""
      ],
      "execution_count": null,
      "outputs": []
    }
  ]
}